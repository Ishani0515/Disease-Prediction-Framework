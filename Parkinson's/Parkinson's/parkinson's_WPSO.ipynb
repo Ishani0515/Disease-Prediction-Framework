{
  "cells": [
    {
      "cell_type": "code",
      "execution_count": null,
      "metadata": {
        "colab": {
          "base_uri": "https://localhost:8080/"
        },
        "id": "o16o49OAB95x",
        "outputId": "f16104c2-b49c-4c48-d03b-1d9cfc3def50"
      },
      "outputs": [
        {
          "name": "stdout",
          "output_type": "stream",
          "text": [
            "Collecting pyswarm\n",
            "  Downloading pyswarm-0.6.tar.gz (4.3 kB)\n",
            "  Preparing metadata (setup.py) ... \u001b[?25l\u001b[?25hdone\n",
            "Requirement already satisfied: numpy in /usr/local/lib/python3.11/dist-packages (from pyswarm) (2.0.2)\n",
            "Building wheels for collected packages: pyswarm\n",
            "  Building wheel for pyswarm (setup.py) ... \u001b[?25l\u001b[?25hdone\n",
            "  Created wheel for pyswarm: filename=pyswarm-0.6-py3-none-any.whl size=4464 sha256=7b80b9879d594d1edb8929441a9b7876a7460b98d8ab12afa0289c9f68a88e2b\n",
            "  Stored in directory: /root/.cache/pip/wheels/bb/4f/ec/8970b83323e16aa95034da175454843947376614d6d5e9627f\n",
            "Successfully built pyswarm\n",
            "Installing collected packages: pyswarm\n",
            "Successfully installed pyswarm-0.6\n",
            "Libraries imported successfully.\n"
          ]
        }
      ],
      "source": [
        "\n",
        "\n",
        "import numpy as np\n",
        "import pandas as pd\n",
        "from sklearn.model_selection import train_test_split\n",
        "from sklearn.preprocessing import StandardScaler\n",
        "from sklearn import svm\n",
        "from sklearn.metrics import accuracy_score, f1_score, recall_score  # Updated imports\n",
        "from sklearn.feature_selection import RFE\n",
        "import pyswarm\n",
        "import matplotlib.pyplot as plt\n",
        "from IPython.display import Image, display\n",
        "from google.colab import files\n",
        "print('Libraries imported successfully.')"
      ]
    },
    {
      "cell_type": "code",
      "execution_count": 2,
      "metadata": {
        "colab": {
          "base_uri": "https://localhost:8080/",
          "height": 73
        },
        "id": "rOIcQ3hKDAdR",
        "outputId": "8e1d2f14-feef-4121-f8e2-8caa91632583"
      },
      "outputs": [
        {
          "data": {
            "text/html": [
              "\n",
              "     <input type=\"file\" id=\"files-a8b74ca3-865a-4cab-b31f-3261e120e029\" name=\"files[]\" multiple disabled\n",
              "        style=\"border:none\" />\n",
              "     <output id=\"result-a8b74ca3-865a-4cab-b31f-3261e120e029\">\n",
              "      Upload widget is only available when the cell has been executed in the\n",
              "      current browser session. Please rerun this cell to enable.\n",
              "      </output>\n",
              "      <script>// Copyright 2017 Google LLC\n",
              "//\n",
              "// Licensed under the Apache License, Version 2.0 (the \"License\");\n",
              "// you may not use this file except in compliance with the License.\n",
              "// You may obtain a copy of the License at\n",
              "//\n",
              "//      http://www.apache.org/licenses/LICENSE-2.0\n",
              "//\n",
              "// Unless required by applicable law or agreed to in writing, software\n",
              "// distributed under the License is distributed on an \"AS IS\" BASIS,\n",
              "// WITHOUT WARRANTIES OR CONDITIONS OF ANY KIND, either express or implied.\n",
              "// See the License for the specific language governing permissions and\n",
              "// limitations under the License.\n",
              "\n",
              "/**\n",
              " * @fileoverview Helpers for google.colab Python module.\n",
              " */\n",
              "(function(scope) {\n",
              "function span(text, styleAttributes = {}) {\n",
              "  const element = document.createElement('span');\n",
              "  element.textContent = text;\n",
              "  for (const key of Object.keys(styleAttributes)) {\n",
              "    element.style[key] = styleAttributes[key];\n",
              "  }\n",
              "  return element;\n",
              "}\n",
              "\n",
              "// Max number of bytes which will be uploaded at a time.\n",
              "const MAX_PAYLOAD_SIZE = 100 * 1024;\n",
              "\n",
              "function _uploadFiles(inputId, outputId) {\n",
              "  const steps = uploadFilesStep(inputId, outputId);\n",
              "  const outputElement = document.getElementById(outputId);\n",
              "  // Cache steps on the outputElement to make it available for the next call\n",
              "  // to uploadFilesContinue from Python.\n",
              "  outputElement.steps = steps;\n",
              "\n",
              "  return _uploadFilesContinue(outputId);\n",
              "}\n",
              "\n",
              "// This is roughly an async generator (not supported in the browser yet),\n",
              "// where there are multiple asynchronous steps and the Python side is going\n",
              "// to poll for completion of each step.\n",
              "// This uses a Promise to block the python side on completion of each step,\n",
              "// then passes the result of the previous step as the input to the next step.\n",
              "function _uploadFilesContinue(outputId) {\n",
              "  const outputElement = document.getElementById(outputId);\n",
              "  const steps = outputElement.steps;\n",
              "\n",
              "  const next = steps.next(outputElement.lastPromiseValue);\n",
              "  return Promise.resolve(next.value.promise).then((value) => {\n",
              "    // Cache the last promise value to make it available to the next\n",
              "    // step of the generator.\n",
              "    outputElement.lastPromiseValue = value;\n",
              "    return next.value.response;\n",
              "  });\n",
              "}\n",
              "\n",
              "/**\n",
              " * Generator function which is called between each async step of the upload\n",
              " * process.\n",
              " * @param {string} inputId Element ID of the input file picker element.\n",
              " * @param {string} outputId Element ID of the output display.\n",
              " * @return {!Iterable<!Object>} Iterable of next steps.\n",
              " */\n",
              "function* uploadFilesStep(inputId, outputId) {\n",
              "  const inputElement = document.getElementById(inputId);\n",
              "  inputElement.disabled = false;\n",
              "\n",
              "  const outputElement = document.getElementById(outputId);\n",
              "  outputElement.innerHTML = '';\n",
              "\n",
              "  const pickedPromise = new Promise((resolve) => {\n",
              "    inputElement.addEventListener('change', (e) => {\n",
              "      resolve(e.target.files);\n",
              "    });\n",
              "  });\n",
              "\n",
              "  const cancel = document.createElement('button');\n",
              "  inputElement.parentElement.appendChild(cancel);\n",
              "  cancel.textContent = 'Cancel upload';\n",
              "  const cancelPromise = new Promise((resolve) => {\n",
              "    cancel.onclick = () => {\n",
              "      resolve(null);\n",
              "    };\n",
              "  });\n",
              "\n",
              "  // Wait for the user to pick the files.\n",
              "  const files = yield {\n",
              "    promise: Promise.race([pickedPromise, cancelPromise]),\n",
              "    response: {\n",
              "      action: 'starting',\n",
              "    }\n",
              "  };\n",
              "\n",
              "  cancel.remove();\n",
              "\n",
              "  // Disable the input element since further picks are not allowed.\n",
              "  inputElement.disabled = true;\n",
              "\n",
              "  if (!files) {\n",
              "    return {\n",
              "      response: {\n",
              "        action: 'complete',\n",
              "      }\n",
              "    };\n",
              "  }\n",
              "\n",
              "  for (const file of files) {\n",
              "    const li = document.createElement('li');\n",
              "    li.append(span(file.name, {fontWeight: 'bold'}));\n",
              "    li.append(span(\n",
              "        `(${file.type || 'n/a'}) - ${file.size} bytes, ` +\n",
              "        `last modified: ${\n",
              "            file.lastModifiedDate ? file.lastModifiedDate.toLocaleDateString() :\n",
              "                                    'n/a'} - `));\n",
              "    const percent = span('0% done');\n",
              "    li.appendChild(percent);\n",
              "\n",
              "    outputElement.appendChild(li);\n",
              "\n",
              "    const fileDataPromise = new Promise((resolve) => {\n",
              "      const reader = new FileReader();\n",
              "      reader.onload = (e) => {\n",
              "        resolve(e.target.result);\n",
              "      };\n",
              "      reader.readAsArrayBuffer(file);\n",
              "    });\n",
              "    // Wait for the data to be ready.\n",
              "    let fileData = yield {\n",
              "      promise: fileDataPromise,\n",
              "      response: {\n",
              "        action: 'continue',\n",
              "      }\n",
              "    };\n",
              "\n",
              "    // Use a chunked sending to avoid message size limits. See b/62115660.\n",
              "    let position = 0;\n",
              "    do {\n",
              "      const length = Math.min(fileData.byteLength - position, MAX_PAYLOAD_SIZE);\n",
              "      const chunk = new Uint8Array(fileData, position, length);\n",
              "      position += length;\n",
              "\n",
              "      const base64 = btoa(String.fromCharCode.apply(null, chunk));\n",
              "      yield {\n",
              "        response: {\n",
              "          action: 'append',\n",
              "          file: file.name,\n",
              "          data: base64,\n",
              "        },\n",
              "      };\n",
              "\n",
              "      let percentDone = fileData.byteLength === 0 ?\n",
              "          100 :\n",
              "          Math.round((position / fileData.byteLength) * 100);\n",
              "      percent.textContent = `${percentDone}% done`;\n",
              "\n",
              "    } while (position < fileData.byteLength);\n",
              "  }\n",
              "\n",
              "  // All done.\n",
              "  yield {\n",
              "    response: {\n",
              "      action: 'complete',\n",
              "    }\n",
              "  };\n",
              "}\n",
              "\n",
              "scope.google = scope.google || {};\n",
              "scope.google.colab = scope.google.colab || {};\n",
              "scope.google.colab._files = {\n",
              "  _uploadFiles,\n",
              "  _uploadFilesContinue,\n",
              "};\n",
              "})(self);\n",
              "</script> "
            ],
            "text/plain": [
              "<IPython.core.display.HTML object>"
            ]
          },
          "metadata": {},
          "output_type": "display_data"
        },
        {
          "name": "stdout",
          "output_type": "stream",
          "text": [
            "Saving parkinsons.data to parkinsons.data\n"
          ]
        }
      ],
      "source": [
        "# Upload the parkinsons.data file\n",
        "uploaded = files.upload()\n",
        "parkinsons_data = pd.read_csv('parkinsons.data')"
      ]
    },
    {
      "cell_type": "code",
      "execution_count": 3,
      "metadata": {
        "colab": {
          "base_uri": "https://localhost:8080/"
        },
        "id": "14olC7NLB92V",
        "outputId": "81d6422a-53ac-43a6-b82f-4a8e3e8eb8f7"
      },
      "outputs": [
        {
          "name": "stdout",
          "output_type": "stream",
          "text": [
            "Data loaded successfully. Shape of the dataset: (195, 24)\n",
            "First 5 rows of the dataset:\n",
            "              name  MDVP:Fo(Hz)  MDVP:Fhi(Hz)  MDVP:Flo(Hz)  MDVP:Jitter(%)  \\\n",
            "0  phon_R01_S01_1      119.992       157.302        74.997         0.00784   \n",
            "1  phon_R01_S01_2      122.400       148.650       113.819         0.00968   \n",
            "2  phon_R01_S01_3      116.682       131.111       111.555         0.01050   \n",
            "3  phon_R01_S01_4      116.676       137.871       111.366         0.00997   \n",
            "4  phon_R01_S01_5      116.014       141.781       110.655         0.01284   \n",
            "\n",
            "   MDVP:Jitter(Abs)  MDVP:RAP  MDVP:PPQ  Jitter:DDP  MDVP:Shimmer  \\\n",
            "0           0.00007   0.00370   0.00554     0.01109       0.04374   \n",
            "1           0.00008   0.00465   0.00696     0.01394       0.06134   \n",
            "2           0.00009   0.00544   0.00781     0.01633       0.05233   \n",
            "3           0.00009   0.00502   0.00698     0.01505       0.05492   \n",
            "4           0.00011   0.00655   0.00908     0.01966       0.06425   \n",
            "\n",
            "   MDVP:Shimmer(dB)  Shimmer:APQ3  Shimmer:APQ5  MDVP:APQ  Shimmer:DDA  \\\n",
            "0             0.426       0.02182       0.03130   0.02971      0.06545   \n",
            "1             0.626       0.03134       0.04518   0.04368      0.09403   \n",
            "2             0.482       0.02757       0.03858   0.03590      0.08270   \n",
            "3             0.517       0.02924       0.04005   0.03772      0.08771   \n",
            "4             0.584       0.03490       0.04825   0.04465      0.10470   \n",
            "\n",
            "       NHR     HNR  status      RPDE       DFA   spread1   spread2        D2  \\\n",
            "0  0.02211  21.033       1  0.414783  0.815285 -4.813031  0.266482  2.301442   \n",
            "1  0.01929  19.085       1  0.458359  0.819521 -4.075192  0.335590  2.486855   \n",
            "2  0.01309  20.651       1  0.429895  0.825288 -4.443179  0.311173  2.342259   \n",
            "3  0.01353  20.644       1  0.434969  0.819235 -4.117501  0.334147  2.405554   \n",
            "4  0.01767  19.649       1  0.417356  0.823484 -3.747787  0.234513  2.332180   \n",
            "\n",
            "        PPE  \n",
            "0  0.284654  \n",
            "1  0.368674  \n",
            "2  0.332634  \n",
            "3  0.368975  \n",
            "4  0.410335  \n",
            "Shape of the dataset: (195, 24)\n",
            "<class 'pandas.core.frame.DataFrame'>\n",
            "RangeIndex: 195 entries, 0 to 194\n",
            "Data columns (total 24 columns):\n",
            " #   Column            Non-Null Count  Dtype  \n",
            "---  ------            --------------  -----  \n",
            " 0   name              195 non-null    object \n",
            " 1   MDVP:Fo(Hz)       195 non-null    float64\n",
            " 2   MDVP:Fhi(Hz)      195 non-null    float64\n",
            " 3   MDVP:Flo(Hz)      195 non-null    float64\n",
            " 4   MDVP:Jitter(%)    195 non-null    float64\n",
            " 5   MDVP:Jitter(Abs)  195 non-null    float64\n",
            " 6   MDVP:RAP          195 non-null    float64\n",
            " 7   MDVP:PPQ          195 non-null    float64\n",
            " 8   Jitter:DDP        195 non-null    float64\n",
            " 9   MDVP:Shimmer      195 non-null    float64\n",
            " 10  MDVP:Shimmer(dB)  195 non-null    float64\n",
            " 11  Shimmer:APQ3      195 non-null    float64\n",
            " 12  Shimmer:APQ5      195 non-null    float64\n",
            " 13  MDVP:APQ          195 non-null    float64\n",
            " 14  Shimmer:DDA       195 non-null    float64\n",
            " 15  NHR               195 non-null    float64\n",
            " 16  HNR               195 non-null    float64\n",
            " 17  status            195 non-null    int64  \n",
            " 18  RPDE              195 non-null    float64\n",
            " 19  DFA               195 non-null    float64\n",
            " 20  spread1           195 non-null    float64\n",
            " 21  spread2           195 non-null    float64\n",
            " 22  D2                195 non-null    float64\n",
            " 23  PPE               195 non-null    float64\n",
            "dtypes: float64(22), int64(1), object(1)\n",
            "memory usage: 36.7+ KB\n",
            "Dataset info displayed (column names, data types, and non-null counts).\n",
            "Missing values in each column:\n",
            " name                0\n",
            "MDVP:Fo(Hz)         0\n",
            "MDVP:Fhi(Hz)        0\n",
            "MDVP:Flo(Hz)        0\n",
            "MDVP:Jitter(%)      0\n",
            "MDVP:Jitter(Abs)    0\n",
            "MDVP:RAP            0\n",
            "MDVP:PPQ            0\n",
            "Jitter:DDP          0\n",
            "MDVP:Shimmer        0\n",
            "MDVP:Shimmer(dB)    0\n",
            "Shimmer:APQ3        0\n",
            "Shimmer:APQ5        0\n",
            "MDVP:APQ            0\n",
            "Shimmer:DDA         0\n",
            "NHR                 0\n",
            "HNR                 0\n",
            "status              0\n",
            "RPDE                0\n",
            "DFA                 0\n",
            "spread1             0\n",
            "spread2             0\n",
            "D2                  0\n",
            "PPE                 0\n",
            "dtype: int64\n",
            "Statistical measures of the dataset:\n",
            "        MDVP:Fo(Hz)  MDVP:Fhi(Hz)  MDVP:Flo(Hz)  MDVP:Jitter(%)  \\\n",
            "count   195.000000    195.000000    195.000000      195.000000   \n",
            "mean    154.228641    197.104918    116.324631        0.006220   \n",
            "std      41.390065     91.491548     43.521413        0.004848   \n",
            "min      88.333000    102.145000     65.476000        0.001680   \n",
            "25%     117.572000    134.862500     84.291000        0.003460   \n",
            "50%     148.790000    175.829000    104.315000        0.004940   \n",
            "75%     182.769000    224.205500    140.018500        0.007365   \n",
            "max     260.105000    592.030000    239.170000        0.033160   \n",
            "\n",
            "       MDVP:Jitter(Abs)    MDVP:RAP    MDVP:PPQ  Jitter:DDP  MDVP:Shimmer  \\\n",
            "count        195.000000  195.000000  195.000000  195.000000    195.000000   \n",
            "mean           0.000044    0.003306    0.003446    0.009920      0.029709   \n",
            "std            0.000035    0.002968    0.002759    0.008903      0.018857   \n",
            "min            0.000007    0.000680    0.000920    0.002040      0.009540   \n",
            "25%            0.000020    0.001660    0.001860    0.004985      0.016505   \n",
            "50%            0.000030    0.002500    0.002690    0.007490      0.022970   \n",
            "75%            0.000060    0.003835    0.003955    0.011505      0.037885   \n",
            "max            0.000260    0.021440    0.019580    0.064330      0.119080   \n",
            "\n",
            "       MDVP:Shimmer(dB)  Shimmer:APQ3  Shimmer:APQ5    MDVP:APQ  Shimmer:DDA  \\\n",
            "count        195.000000    195.000000    195.000000  195.000000   195.000000   \n",
            "mean           0.282251      0.015664      0.017878    0.024081     0.046993   \n",
            "std            0.194877      0.010153      0.012024    0.016947     0.030459   \n",
            "min            0.085000      0.004550      0.005700    0.007190     0.013640   \n",
            "25%            0.148500      0.008245      0.009580    0.013080     0.024735   \n",
            "50%            0.221000      0.012790      0.013470    0.018260     0.038360   \n",
            "75%            0.350000      0.020265      0.022380    0.029400     0.060795   \n",
            "max            1.302000      0.056470      0.079400    0.137780     0.169420   \n",
            "\n",
            "              NHR         HNR      status        RPDE         DFA     spread1  \\\n",
            "count  195.000000  195.000000  195.000000  195.000000  195.000000  195.000000   \n",
            "mean     0.024847   21.885974    0.753846    0.498536    0.718099   -5.684397   \n",
            "std      0.040418    4.425764    0.431878    0.103942    0.055336    1.090208   \n",
            "min      0.000650    8.441000    0.000000    0.256570    0.574282   -7.964984   \n",
            "25%      0.005925   19.198000    1.000000    0.421306    0.674758   -6.450096   \n",
            "50%      0.011660   22.085000    1.000000    0.495954    0.722254   -5.720868   \n",
            "75%      0.025640   25.075500    1.000000    0.587562    0.761881   -5.046192   \n",
            "max      0.314820   33.047000    1.000000    0.685151    0.825288   -2.434031   \n",
            "\n",
            "          spread2          D2         PPE  \n",
            "count  195.000000  195.000000  195.000000  \n",
            "mean     0.226510    2.381826    0.206552  \n",
            "std      0.083406    0.382799    0.090119  \n",
            "min      0.006274    1.423287    0.044539  \n",
            "25%      0.174351    2.099125    0.137451  \n",
            "50%      0.218885    2.361532    0.194052  \n",
            "75%      0.279234    2.636456    0.252980  \n",
            "max      0.450493    3.671155    0.527367  \n",
            "Distribution of target variable (status):\n",
            " status\n",
            "1    147\n",
            "0     48\n",
            "Name: count, dtype: int64\n",
            "Mean values grouped by status:\n",
            "         MDVP:Fo(Hz)  MDVP:Fhi(Hz)  MDVP:Flo(Hz)  MDVP:Jitter(%)  \\\n",
            "status                                                            \n",
            "0        181.937771    223.636750    145.207292        0.003866   \n",
            "1        145.180762    188.441463    106.893558        0.006989   \n",
            "\n",
            "        MDVP:Jitter(Abs)  MDVP:RAP  MDVP:PPQ  Jitter:DDP  MDVP:Shimmer  \\\n",
            "status                                                                   \n",
            "0               0.000023  0.001925  0.002056    0.005776      0.017615   \n",
            "1               0.000051  0.003757  0.003900    0.011273      0.033658   \n",
            "\n",
            "        MDVP:Shimmer(dB)  Shimmer:APQ3  Shimmer:APQ5  MDVP:APQ  Shimmer:DDA  \\\n",
            "status                                                                        \n",
            "0               0.162958      0.009504      0.010509  0.013305     0.028511   \n",
            "1               0.321204      0.017676      0.020285  0.027600     0.053027   \n",
            "\n",
            "             NHR        HNR      RPDE       DFA   spread1   spread2        D2  \\\n",
            "status                                                                          \n",
            "0       0.011483  24.678750  0.442552  0.695716 -6.759264  0.160292  2.154491   \n",
            "1       0.029211  20.974048  0.516816  0.725408 -5.333420  0.248133  2.456058   \n",
            "\n",
            "             PPE  \n",
            "status            \n",
            "0       0.123017  \n",
            "1       0.233828  \n"
          ]
        }
      ],
      "source": [
        "pd.set_option(\"display.max_columns\", None)\n",
        "print('Data loaded successfully. Shape of the dataset:', parkinsons_data.shape)\n",
        "print('First 5 rows of the dataset:\\n', parkinsons_data.head())\n",
        "print('Shape of the dataset:', parkinsons_data.shape)\n",
        "parkinsons_data.info()\n",
        "print('Dataset info displayed (column names, data types, and non-null counts).')\n",
        "print('Missing values in each column:\\n', parkinsons_data.isnull().sum())\n",
        "print('Statistical measures of the dataset:\\n', parkinsons_data.describe())\n",
        "print('Distribution of target variable (status):\\n', parkinsons_data['status'].value_counts())\n",
        "print('Mean values grouped by status:\\n', parkinsons_data.groupby('status').mean(numeric_only=True))"
      ]
    },
    {
      "cell_type": "code",
      "execution_count": 5,
      "metadata": {
        "colab": {
          "base_uri": "https://localhost:8080/"
        },
        "id": "1EcZ4I4LB9zm",
        "outputId": "7453d17a-e182-470f-d6a3-c19e346ea727"
      },
      "outputs": [
        {
          "name": "stdout",
          "output_type": "stream",
          "text": [
            "Features (X) and target (y) separated. X shape: (195, 22) y shape: (195,)\n"
          ]
        }
      ],
      "source": [
        "# Feature and target separation\n",
        "X = parkinsons_data.drop(columns=['name', 'status'], axis=1)\n",
        "y = parkinsons_data['status']\n",
        "print('Features (X) and target (y) separated. X shape:', X.shape, 'y shape:', y.shape)"
      ]
    },
    {
      "cell_type": "code",
      "execution_count": 6,
      "metadata": {
        "colab": {
          "base_uri": "https://localhost:8080/"
        },
        "id": "ilVrI7m1B9wy",
        "outputId": "94f147b5-7dc1-494a-b148-90082d3f719d"
      },
      "outputs": [
        {
          "name": "stdout",
          "output_type": "stream",
          "text": [
            "Data split into training and test sets. X_train shape: (136, 22) X_test shape: (59, 22)\n"
          ]
        }
      ],
      "source": [
        "# Train-test split\n",
        "X_train, X_test, y_train, y_test = train_test_split(X, y, test_size=0.3, random_state=2)\n",
        "print('Data split into training and test sets. X_train shape:', X_train.shape, 'X_test shape:', X_test.shape)"
      ]
    },
    {
      "cell_type": "code",
      "execution_count": 7,
      "metadata": {
        "colab": {
          "base_uri": "https://localhost:8080/"
        },
        "id": "5l5wLRcbCNgd",
        "outputId": "802105ab-4973-413a-8d2d-42c95bec7628"
      },
      "outputs": [
        {
          "name": "stdout",
          "output_type": "stream",
          "text": [
            "Data standardized. First 5 rows of X_train:\n",
            " [[-0.54710467 -0.3015979  -1.19158476  0.58411131  0.66920241  0.54755756\n",
            "   0.38660898  0.54647689  0.88359209  0.84177398  0.96588819  0.43613322\n",
            "   0.63719939  0.96588479  0.10174981 -0.6209075   0.39100103  0.32429756\n",
            "   0.39283275 -0.00776054  0.59267709  0.37430076]\n",
            " [ 1.94992117  0.448904    2.36611823 -0.65118848 -0.90675478 -0.54390762\n",
            "  -0.57915776 -0.54395573 -0.70285923 -0.66114887 -0.59005252 -0.6900595\n",
            "  -0.78954301 -0.59036021 -0.46312262  0.25565833 -1.86304516 -1.14834364\n",
            "  -1.44615685 -1.506426    0.03479297 -1.20270259]\n",
            " [ 1.74551598  0.36630009 -0.13302105 -0.76131922 -0.90675478 -0.64258803\n",
            "  -0.71619223 -0.6426329  -0.70630162 -0.70826244 -0.67447638 -0.58384437\n",
            "  -0.73418344 -0.67417896 -0.53208835  0.63670987 -1.85957284 -0.63351528\n",
            "  -1.44938166 -2.6033621  -0.70325685 -1.23986022]\n",
            " [-1.28585478 -0.97874839 -0.58133397 -0.1170544   0.40654288 -0.17908912\n",
            "  -0.13216437 -0.1791492   0.86097065  0.64389699  0.90597449  0.94065506\n",
            "   0.59060964  0.90627361  0.0306289  -0.93862579  1.28524153  0.52606393\n",
            "   0.31119726  1.12668851 -0.06840067  0.37535602]\n",
            " [ 1.27942165  0.2937763   1.4744672  -0.21800758 -0.38143572 -0.08937965\n",
            "  -0.25941067 -0.08844594 -0.7382667  -0.73181923 -0.74800683 -0.69552645\n",
            "  -0.69745976 -0.74801209 -0.48898477  0.45239118 -0.57596896  0.11981166\n",
            "  -0.26756933  0.29423117  0.2138426  -0.3203955 ]]\n"
          ]
        }
      ],
      "source": [
        "# Standardization\n",
        "scaler = StandardScaler()\n",
        "scaler.fit(X_train)\n",
        "X_train = scaler.transform(X_train)\n",
        "X_test = scaler.transform(X_test)\n",
        "print('Data standardized. First 5 rows of X_train:\\n', X_train[:5])"
      ]
    },
    {
      "cell_type": "code",
      "execution_count": 8,
      "metadata": {
        "colab": {
          "base_uri": "https://localhost:8080/"
        },
        "id": "Q5YFJVzwCNc5",
        "outputId": "62e6a1d5-f546-40f6-806b-cf63fdfef05d"
      },
      "outputs": [
        {
          "name": "stdout",
          "output_type": "stream",
          "text": [
            "RFE feature selection completed. Selected features: ['MDVP:Jitter(%)', 'MDVP:RAP', 'MDVP:PPQ', 'Jitter:DDP', 'MDVP:APQ', 'RPDE', 'DFA', 'spread1', 'spread2', 'PPE']\n",
            "Shape of X_train after RFE: (136, 10)\n"
          ]
        }
      ],
      "source": [
        "# Feature selection with RFE (Wrapper Method)\n",
        "initial_model = svm.SVC(kernel='linear')\n",
        "rfe = RFE(estimator=initial_model, n_features_to_select=10)\n",
        "rfe.fit(X_train, y_train)\n",
        "X_train_rfe = rfe.transform(X_train)\n",
        "X_test_rfe = rfe.transform(X_test)\n",
        "selected_features = X.columns[rfe.support_].tolist()\n",
        "print('RFE feature selection completed. Selected features:', selected_features)\n",
        "print('Shape of X_train after RFE:', X_train_rfe.shape)"
      ]
    },
    {
      "cell_type": "code",
      "execution_count": 9,
      "metadata": {
        "colab": {
          "base_uri": "https://localhost:8080/"
        },
        "id": "QvAHTdGXCNad",
        "outputId": "46924c37-0845-465c-a64c-77d5761f838c"
      },
      "outputs": [
        {
          "name": "stdout",
          "output_type": "stream",
          "text": [
            "Stopping search: maximum iterations reached --> 10\n",
            "PSO optimization completed. Optimal C value: 20.90134529109441\n"
          ]
        }
      ],
      "source": [
        "# PSO optimization\n",
        "def objective_function(params):\n",
        "    C = params[0]\n",
        "    model = svm.SVC(kernel='linear', C=C)\n",
        "    model.fit(X_train_rfe, y_train)\n",
        "    predictions = model.predict(X_train_rfe)\n",
        "    return -accuracy_score(y_train, predictions)  # Negative because PSO minimizes\n",
        "\n",
        "lb = [0.1]  # Lower bound for C\n",
        "ub = [100]  # Upper bound for C\n",
        "best_params, _ = pyswarm.pso(objective_function, lb, ub, swarmsize=10, maxiter=10)\n",
        "optimal_C = best_params[0]\n",
        "print('PSO optimization completed. Optimal C value:', optimal_C)"
      ]
    },
    {
      "cell_type": "code",
      "execution_count": 10,
      "metadata": {
        "colab": {
          "base_uri": "https://localhost:8080/"
        },
        "id": "5AxIdJOFCb67",
        "outputId": "377158ec-de05-4e4e-d2a4-078578123a43"
      },
      "outputs": [
        {
          "name": "stdout",
          "output_type": "stream",
          "text": [
            "SVM model trained with optimized C.\n"
          ]
        }
      ],
      "source": [
        "# Model training\n",
        "model = svm.SVC(kernel='linear', C=optimal_C)\n",
        "model.fit(X_train_rfe, y_train)\n",
        "print('SVM model trained with optimized C.')"
      ]
    },
    {
      "cell_type": "code",
      "execution_count": 11,
      "metadata": {
        "colab": {
          "base_uri": "https://localhost:8080/"
        },
        "id": "N03muki4Cby9",
        "outputId": "0e801c43-2bce-46e0-b316-786bf2989caa"
      },
      "outputs": [
        {
          "name": "stdout",
          "output_type": "stream",
          "text": [
            "\n",
            "Training Data Evaluation:\n",
            "Accuracy: 0.9191\n",
            "F1-Score: 0.9458\n",
            "Recall: 0.9600\n",
            "\n",
            "Test Data Evaluation:\n",
            "Accuracy: 0.8475\n",
            "F1-Score: 0.9053\n",
            "Recall: 0.9149\n"
          ]
        }
      ],
      "source": [
        "# Training data evaluation\n",
        "X_train_prediction = model.predict(X_train_rfe)\n",
        "training_data_accuracy = accuracy_score(y_train, X_train_prediction)\n",
        "training_data_f1 = f1_score(y_train, X_train_prediction)\n",
        "training_data_recall = recall_score(y_train, X_train_prediction)\n",
        "\n",
        "print('\\nTraining Data Evaluation:')\n",
        "print(f'Accuracy: {training_data_accuracy:.4f}')\n",
        "print(f'F1-Score: {training_data_f1:.4f}')\n",
        "print(f'Recall: {training_data_recall:.4f}')\n",
        "\n",
        "# Test data evaluation\n",
        "X_test_prediction = model.predict(X_test_rfe)\n",
        "test_data_accuracy = accuracy_score(y_test, X_test_prediction)\n",
        "test_data_f1 = f1_score(y_test, X_test_prediction)\n",
        "test_data_recall = recall_score(y_test, X_test_prediction)\n",
        "\n",
        "print('\\nTest Data Evaluation:')\n",
        "print(f'Accuracy: {test_data_accuracy:.4f}')\n",
        "print(f'F1-Score: {test_data_f1:.4f}')\n",
        "print(f'Recall: {test_data_recall:.4f}')"
      ]
    },
    {
      "cell_type": "code",
      "execution_count": 12,
      "metadata": {
        "colab": {
          "base_uri": "https://localhost:8080/",
          "height": 468
        },
        "id": "ckNXI4yYCbvZ",
        "outputId": "fdec076e-92fb-4d7a-a3c0-a15b946f73e9"
      },
      "outputs": [
        {
          "data": {
            "image/png": "[encoded data removed]",
            "text/plain": [
              "<Figure size 1000x500 with 1 Axes>"
            ]
          },
          "metadata": {},
          "output_type": "display_data"
        }
      ],
      "source": [
        "# Visualization\n",
        "metrics = ['Accuracy', 'F1-Score', 'Recall']\n",
        "train_metrics = [training_data_accuracy, training_data_f1, training_data_recall]\n",
        "test_metrics = [test_data_accuracy, test_data_f1, test_data_recall]\n",
        "\n",
        "plt.figure(figsize=(10, 5))\n",
        "plt.bar(np.arange(len(metrics)) - 0.2, train_metrics, width=0.4, label='Train', color='blue')\n",
        "plt.bar(np.arange(len(metrics)) + 0.2, test_metrics, width=0.4, label='Test', color='green')\n",
        "plt.xticks(np.arange(len(metrics)), metrics)\n",
        "plt.title('Model Performance Metrics')\n",
        "plt.ylabel('Score')\n",
        "plt.ylim(0, 1)\n",
        "plt.legend()\n",
        "plt.show()"
      ]
    },
    {
      "cell_type": "code",
      "execution_count": 13,
      "metadata": {
        "colab": {
          "base_uri": "https://localhost:8080/"
        },
        "id": "DSSQsGT5Cbp6",
        "outputId": "e4ee6c99-e25e-46c8-b704-d754b30ec9b2"
      },
      "outputs": [
        {
          "name": "stdout",
          "output_type": "stream",
          "text": [
            "\n",
            "Prediction for input data: Parkinson's negative\n"
          ]
        },
        {
          "name": "stderr",
          "output_type": "stream",
          "text": [
            "/usr/local/lib/python3.11/dist-packages/sklearn/utils/validation.py:2739: UserWarning: X does not have valid feature names, but StandardScaler was fitted with feature names\n",
            "  warnings.warn(\n"
          ]
        }
      ],
      "source": [
        "# Prediction on new data\n",
        "def interpret_parkinsons_prediction(prediction):\n",
        "    return \"Parkinson's positive\" if prediction == 1 else \"Parkinson's negative\"\n",
        "\n",
        "input_data = (136.92600, 159.86600, 131.27600, 0.00293, 0.00002, 0.00118, 0.00153, 0.00355, 0.01259, 0.11200,\n",
        "              0.00656, 0.00717, 0.01140, 0.01968, 0.00581, 25.70300, 0.460600, 0.646846, -6.547148, 0.152813,\n",
        "              2.041277, 0.138512)\n",
        "input_data_as_numpy_array = np.asarray(input_data)\n",
        "input_data_reshaped = input_data_as_numpy_array.reshape(1, -1)\n",
        "std_data = scaler.transform(input_data_reshaped)\n",
        "std_data_rfe = rfe.transform(std_data)\n",
        "prediction = model.predict(std_data_rfe)\n",
        "result = interpret_parkinsons_prediction(prediction[0])\n",
        "print('\\nPrediction for input data:', result)"
      ]
    },
    {
      "cell_type": "code",
      "execution_count": 14,
      "metadata": {
        "colab": {
          "base_uri": "https://localhost:8080/"
        },
        "id": "SB-QTFeK0snz",
        "outputId": "a0dca42b-748d-4749-926e-5909674f672c"
      },
      "outputs": [
        {
          "name": "stdout",
          "output_type": "stream",
          "text": [
            "\n",
            "Model artifacts saved:\n",
            "- parkinsondisease_model.pkl (SVM model)\n",
            "- scaler_file.pkl (StandardScaler)\n",
            "- rfe_file.pkl (RFE feature selector)\n"
          ]
        }
      ],
      "source": [
        "# Save model and artifacts\n",
        "import pickle\n",
        "with open('parkinsondisease_model.pkl', 'wb') as f:\n",
        "    pickle.dump(model, f)\n",
        "with open('scaler_file.pkl', 'wb') as scaler_file:\n",
        "    pickle.dump(scaler, scaler_file)\n",
        "with open('rfe_file.pkl', 'wb') as rfe_file:\n",
        "    pickle.dump(rfe, rfe_file)\n",
        "print('\\nModel artifacts saved:')\n",
        "print('- parkinsondisease_model.pkl (SVM model)')\n",
        "print('- scaler_file.pkl (StandardScaler)')\n",
        "print('- rfe_file.pkl (RFE feature selector)')"
      ]
    }
  ],
  "metadata": {
    "colab": {
      "provenance": []
    },
    "kernelspec": {
      "display_name": "Python 3",
      "name": "python3"
    },
    "language_info": {
      "name": "python",
      "version": "3.13.1"
    }
  },
  "nbformat": 4,
  "nbformat_minor": 0
}
